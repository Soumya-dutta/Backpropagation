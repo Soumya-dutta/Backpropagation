{
 "cells": [
  {
   "cell_type": "code",
   "execution_count": 1,
   "metadata": {},
   "outputs": [],
   "source": [
    "import numpy as np\n",
    "import pandas as pd\n",
    "from sklearn.preprocessing import OneHotEncoder"
   ]
  },
  {
   "cell_type": "code",
   "execution_count": 2,
   "metadata": {},
   "outputs": [],
   "source": [
    "train_data = pd.read_csv(\"train.csv\")\n",
    "train_x, train_y_1 = train_data.loc[:,train_data.columns!='label'].to_numpy(), train_data['label'].to_numpy()\n",
    "train_y_1 = train_y_1.reshape((train_x.shape[0], 1))\n",
    "enc = OneHotEncoder(handle_unknown='ignore')\n",
    "train_y = enc.fit_transform(train_y_1).toarray()"
   ]
  },
  {
   "cell_type": "code",
   "execution_count": 3,
   "metadata": {},
   "outputs": [],
   "source": [
    "num_hidden_layers = 2\n",
    "num_neurons = 784"
   ]
  },
  {
   "cell_type": "code",
   "execution_count": 4,
   "metadata": {},
   "outputs": [],
   "source": [
    "train_x, train_y = train_x.T/255, train_y.T"
   ]
  },
  {
   "cell_type": "code",
   "execution_count": 7,
   "metadata": {},
   "outputs": [],
   "source": [
    "def initialize(num_neurons, num_hidden_layers, train_x, train_y):\n",
    "    parameters = {}\n",
    "    input_shape = (num_neurons, train_x.shape[0])\n",
    "    output_shape = (train_y.shape[0], num_neurons)\n",
    "    parameters[\"W1\"] = np.random.randn(input_shape[0], input_shape[1])*np.sqrt(2/input_shape[1])\n",
    "    parameters[\"b1\"] = np.zeros((num_neurons, 1))\n",
    "    for num_layers in range(num_hidden_layers-1):\n",
    "        present_index = \"W\"+str(num_layers+2)\n",
    "        input_shape = (parameters[\"W\"+str(num_layers+1)].shape[0], num_neurons)\n",
    "        parameters[present_index] = np.random.randn(input_shape[0], input_shape[1])*np.sqrt(2/input_shape[1])\n",
    "        parameters[\"b\"+str(num_layers+2)] = np.zeros((num_neurons, 1))\n",
    "    parameters[\"W\"+str(num_hidden_layers+1)] = np.random.randn(output_shape[0], output_shape[1])*np.sqrt(2/output_shape[1])\n",
    "    parameters[\"b\"+str(num_hidden_layers+1)] = np.zeros((train_y.shape[0], 1))\n",
    "    return parameters"
   ]
  },
  {
   "cell_type": "code",
   "execution_count": 8,
   "metadata": {},
   "outputs": [],
   "source": [
    "def relu(x):\n",
    "    return x*(x>0)\n",
    "\n",
    "def softmax(x):\n",
    "    max_ele = np.max(x,axis=0)\n",
    "    return np.exp(x-max_ele)/np.sum(np.exp(x-max_ele), axis = 0)"
   ]
  },
  {
   "cell_type": "code",
   "execution_count": 9,
   "metadata": {},
   "outputs": [],
   "source": [
    "def forward(inp, parameters):\n",
    "    parameters[\"A0\"] = inp\n",
    "    for ind in range(1, num_hidden_layers+2):\n",
    "        parameters[\"Z\"+str(ind)] = np.dot(parameters[\"W\"+str(ind)], parameters[\"A\"+str(ind-1)]) + parameters[\"b\"+str(ind)]\n",
    "        if ind != num_hidden_layers+1:\n",
    "            parameters[\"A\"+str(ind)] = relu(parameters[\"Z\"+str(ind)])\n",
    "        else:\n",
    "            parameters[\"A\"+str(ind)] = softmax(parameters[\"Z\"+str(ind)])\n",
    "    return parameters\n",
    "    \n",
    "        "
   ]
  },
  {
   "cell_type": "code",
   "execution_count": 10,
   "metadata": {},
   "outputs": [],
   "source": [
    "def relu_d(x):\n",
    "    x[x<=0] = 0\n",
    "    x[x>0] = 1\n",
    "    return x"
   ]
  },
  {
   "cell_type": "code",
   "execution_count": 11,
   "metadata": {},
   "outputs": [],
   "source": [
    "def backward(out, parameters, reg_param):\n",
    "    grads = {}\n",
    "    for ind in range(num_hidden_layers+1, 0, -1):\n",
    "        if ind == num_hidden_layers+1:\n",
    "            grads[\"Z\"+str(ind)] = parameters[\"A\"+str(ind)] - out\n",
    "            grads[\"W\"+str(ind)] = np.dot(grads[\"Z\"+str(ind)], parameters[\"A\"+str(ind-1)].T) + reg_param*parameters[\"W\"+str(ind)]\n",
    "            grads[\"b\"+str(ind)] = np.sum(grads[\"Z\"+str(ind)], axis = 1, keepdims=True)\n",
    "        else:\n",
    "            relu_der = relu_d(parameters[\"Z\"+str(ind)])\n",
    "            grads[\"Z\"+str(ind)] = np.multiply(np.dot(parameters[\"W\"+str(ind+1)].T, grads[\"Z\"+str(ind+1)]), relu_der)\n",
    "            grads[\"W\"+str(ind)] = np.dot(grads[\"Z\"+str(ind)], parameters[\"A\"+str(ind-1)].T) + reg_param*parameters[\"W\"+str(ind)]\n",
    "            grads[\"b\"+str(ind)] = np.sum(grads[\"Z\"+str(ind)], axis = 1, keepdims=True)\n",
    "    return grads"
   ]
  },
  {
   "cell_type": "code",
   "execution_count": 43,
   "metadata": {},
   "outputs": [],
   "source": [
    "def compute_loss(pred, true):\n",
    "    log_out = np.log(pred+1e-4)\n",
    "    loss = -np.sum(np.multiply(log_out, true))\n",
    "    return loss"
   ]
  },
  {
   "cell_type": "code",
   "execution_count": 13,
   "metadata": {},
   "outputs": [
    {
     "name": "stdout",
     "output_type": "stream",
     "text": [
      "(784, 42000) (10, 42000)\n"
     ]
    }
   ],
   "source": [
    "from sklearn.model_selection import train_test_split\n",
    "print(train_x.shape, train_y.shape)"
   ]
  },
  {
   "cell_type": "code",
   "execution_count": 14,
   "metadata": {},
   "outputs": [],
   "source": [
    "X_train, X_test, y_train, y_test = train_test_split(train_x.T, train_y.T, test_size=0.2)"
   ]
  },
  {
   "cell_type": "code",
   "execution_count": 15,
   "metadata": {},
   "outputs": [],
   "source": [
    "X_train, X_test, y_train, y_test = X_train.T, X_test.T, y_train.T, y_test.T"
   ]
  },
  {
   "cell_type": "code",
   "execution_count": 51,
   "metadata": {},
   "outputs": [],
   "source": [
    "batch_size = 128\n",
    "num_epochs = 50"
   ]
  },
  {
   "cell_type": "code",
   "execution_count": 17,
   "metadata": {},
   "outputs": [],
   "source": [
    "def compute_acc(pred, true):\n",
    "    pred_max = np.argmax(pred, axis=0)\n",
    "    true_max = np.argmax(true, axis=0)\n",
    "    return (pred_max==true_max).mean()"
   ]
  },
  {
   "cell_type": "code",
   "execution_count": 35,
   "metadata": {},
   "outputs": [],
   "source": [
    "def compute_L2(params):\n",
    "    reg_l = 0.0\n",
    "    for ele in params.keys():\n",
    "        if \"W\" in ele:\n",
    "            reg_l += np.sum(np.square(params[ele]))\n",
    "    return reg_l"
   ]
  },
  {
   "cell_type": "code",
   "execution_count": 54,
   "metadata": {},
   "outputs": [
    {
     "name": "stdout",
     "output_type": "stream",
     "text": [
      "Epoch 0 Training Loss: 1.096724734074019 Training accuracy: 74.2514258555133\n",
      "Epoch 0 Validation Loss: 0.5989944554244017 Validation accuracy: 85.79761904761905\n",
      "Epoch 1 Training Loss: 0.5043255572646603 Training accuracy: 87.431677756654\n",
      "Epoch 1 Validation Loss: 0.4225982100346087 Validation accuracy: 88.83333333333333\n",
      "Epoch 2 Training Loss: 0.3979187022293244 Training accuracy: 89.56154942965779\n",
      "Epoch 2 Validation Loss: 0.3595434462737483 Validation accuracy: 90.01190476190476\n",
      "Epoch 3 Training Loss: 0.34940208793061517 Training accuracy: 90.63094106463879\n",
      "Epoch 3 Validation Loss: 0.3249288211622694 Validation accuracy: 90.85714285714286\n",
      "Epoch 4 Training Loss: 0.31925127693238226 Training accuracy: 91.3022813688213\n",
      "Epoch 4 Validation Loss: 0.301701610798249 Validation accuracy: 91.5\n",
      "Epoch 5 Training Loss: 0.29743486875527925 Training accuracy: 91.9409458174905\n",
      "Epoch 5 Validation Loss: 0.2842747145060281 Validation accuracy: 91.9047619047619\n",
      "Epoch 6 Training Loss: 0.28024899129718867 Training accuracy: 92.41028992395437\n",
      "Epoch 6 Validation Loss: 0.2703012976227385 Validation accuracy: 92.15476190476191\n",
      "Epoch 7 Training Loss: 0.2660066677807548 Training accuracy: 92.81428231939164\n",
      "Epoch 7 Validation Loss: 0.2586519686518524 Validation accuracy: 92.35714285714286\n",
      "Epoch 8 Training Loss: 0.25381153786823507 Training accuracy: 93.19451045627376\n",
      "Epoch 8 Validation Loss: 0.24863230527970873 Validation accuracy: 92.72619047619047\n",
      "Epoch 9 Training Loss: 0.24313275944157464 Training accuracy: 93.51532794676807\n",
      "Epoch 9 Validation Loss: 0.23988690419035974 Validation accuracy: 92.9047619047619\n",
      "Epoch 10 Training Loss: 0.23362211681982686 Training accuracy: 93.79158745247149\n",
      "Epoch 10 Validation Loss: 0.2320908838309585 Validation accuracy: 93.19047619047619\n",
      "Epoch 11 Training Loss: 0.22502406558966245 Training accuracy: 94.04111216730038\n",
      "Epoch 11 Validation Loss: 0.2250486032788562 Validation accuracy: 93.44047619047619\n",
      "Epoch 12 Training Loss: 0.21716793575797935 Training accuracy: 94.27875475285171\n",
      "Epoch 12 Validation Loss: 0.21864389328457684 Validation accuracy: 93.63095238095238\n",
      "Epoch 13 Training Loss: 0.20992852416556224 Training accuracy: 94.44807509505704\n",
      "Epoch 13 Validation Loss: 0.21278660885213202 Validation accuracy: 93.83333333333333\n",
      "Epoch 14 Training Loss: 0.20321964920566268 Training accuracy: 94.66492395437263\n",
      "Epoch 14 Validation Loss: 0.20739054458527675 Validation accuracy: 93.95238095238095\n",
      "Epoch 15 Training Loss: 0.1969704893149187 Training accuracy: 94.84315589353612\n",
      "Epoch 15 Validation Loss: 0.2023525807438566 Validation accuracy: 94.0\n",
      "Epoch 16 Training Loss: 0.19111259766245323 Training accuracy: 95.01247623574145\n",
      "Epoch 16 Validation Loss: 0.1976447193643494 Validation accuracy: 94.14285714285714\n",
      "Epoch 17 Training Loss: 0.18560225374217043 Training accuracy: 95.19664923954373\n",
      "Epoch 17 Validation Loss: 0.19323945388050168 Validation accuracy: 94.25\n",
      "Epoch 18 Training Loss: 0.18040160188634843 Training accuracy: 95.33923479087453\n",
      "Epoch 18 Validation Loss: 0.1891013719765139 Validation accuracy: 94.34523809523809\n",
      "Epoch 19 Training Loss: 0.1754876779703993 Training accuracy: 95.49964353612167\n",
      "Epoch 19 Validation Loss: 0.1852083480749878 Validation accuracy: 94.44047619047619\n",
      "Epoch 20 Training Loss: 0.1708323590053911 Training accuracy: 95.63628802281369\n",
      "Epoch 20 Validation Loss: 0.18153498414891842 Validation accuracy: 94.53571428571429\n",
      "Epoch 21 Training Loss: 0.16641780656641297 Training accuracy: 95.76402091254752\n",
      "Epoch 21 Validation Loss: 0.17807121187723096 Validation accuracy: 94.58333333333333\n",
      "Epoch 22 Training Loss: 0.16221665326949214 Training accuracy: 95.87096007604563\n",
      "Epoch 22 Validation Loss: 0.1747759443925148 Validation accuracy: 94.69047619047619\n",
      "Epoch 23 Training Loss: 0.1582109108289718 Training accuracy: 95.9897813688213\n",
      "Epoch 23 Validation Loss: 0.17164862326395752 Validation accuracy: 94.73809523809524\n",
      "Epoch 24 Training Loss: 0.15437737877093585 Training accuracy: 96.09375\n",
      "Epoch 24 Validation Loss: 0.16867082895785185 Validation accuracy: 94.79761904761905\n",
      "Epoch 25 Training Loss: 0.1507111941344437 Training accuracy: 96.2006891634981\n",
      "Epoch 25 Validation Loss: 0.16583402452697682 Validation accuracy: 94.92857142857143\n",
      "Epoch 26 Training Loss: 0.14720278869695516 Training accuracy: 96.33733365019012\n",
      "Epoch 26 Validation Loss: 0.1631206156764362 Validation accuracy: 94.97619047619048\n",
      "Epoch 27 Training Loss: 0.14383339753104046 Training accuracy: 96.42644961977186\n",
      "Epoch 27 Validation Loss: 0.1605282294617679 Validation accuracy: 95.0952380952381\n",
      "Epoch 28 Training Loss: 0.1405964172845435 Training accuracy: 96.50962452471482\n",
      "Epoch 28 Validation Loss: 0.1580542951888436 Validation accuracy: 95.19047619047619\n",
      "Epoch 29 Training Loss: 0.13748664647140585 Training accuracy: 96.60468155893535\n",
      "Epoch 29 Validation Loss: 0.15569282143152247 Validation accuracy: 95.35714285714286\n",
      "Epoch 30 Training Loss: 0.1344982172966241 Training accuracy: 96.67597433460077\n",
      "Epoch 30 Validation Loss: 0.1534447259995795 Validation accuracy: 95.41666666666667\n",
      "Epoch 31 Training Loss: 0.13162101347190353 Training accuracy: 96.79182509505704\n",
      "Epoch 31 Validation Loss: 0.15129367802028537 Validation accuracy: 95.48809523809524\n",
      "Epoch 32 Training Loss: 0.12884638029476783 Training accuracy: 96.86608840304183\n",
      "Epoch 32 Validation Loss: 0.14923644866442723 Validation accuracy: 95.55952380952381\n",
      "Epoch 33 Training Loss: 0.12616835567890253 Training accuracy: 96.93144011406844\n",
      "Epoch 33 Validation Loss: 0.14725588651623467 Validation accuracy: 95.5952380952381\n",
      "Epoch 34 Training Loss: 0.12358145832926905 Training accuracy: 97.04134980988593\n",
      "Epoch 34 Validation Loss: 0.14536163974847616 Validation accuracy: 95.63095238095238\n",
      "Epoch 35 Training Loss: 0.12108779532996208 Training accuracy: 97.0888783269962\n",
      "Epoch 35 Validation Loss: 0.1435396099791812 Validation accuracy: 95.69047619047619\n",
      "Epoch 36 Training Loss: 0.11867795489438304 Training accuracy: 97.14828897338403\n",
      "Epoch 36 Validation Loss: 0.14178937032600708 Validation accuracy: 95.75\n",
      "Epoch 37 Training Loss: 0.1163503675329274 Training accuracy: 97.24037547528518\n",
      "Epoch 37 Validation Loss: 0.14010678469933108 Validation accuracy: 95.79761904761904\n",
      "Epoch 38 Training Loss: 0.1141011130550759 Training accuracy: 97.29978612167301\n",
      "Epoch 38 Validation Loss: 0.13849496723064342 Validation accuracy: 95.89285714285715\n",
      "Epoch 39 Training Loss: 0.11192445227050678 Training accuracy: 97.37999049429658\n",
      "Epoch 39 Validation Loss: 0.13695143634868065 Validation accuracy: 95.9047619047619\n",
      "Epoch 40 Training Loss: 0.10981374139661841 Training accuracy: 97.45128326996198\n",
      "Epoch 40 Validation Loss: 0.13546240112763783 Validation accuracy: 95.94047619047619\n",
      "Epoch 41 Training Loss: 0.10776887524081273 Training accuracy: 97.50475285171103\n",
      "Epoch 41 Validation Loss: 0.13403005090169665 Validation accuracy: 95.96428571428571\n",
      "Epoch 42 Training Loss: 0.10578844852321426 Training accuracy: 97.56713403041825\n",
      "Epoch 42 Validation Loss: 0.13265660104152227 Validation accuracy: 95.97619047619048\n",
      "Epoch 43 Training Loss: 0.10386767129026808 Training accuracy: 97.60872148288973\n",
      "Epoch 43 Validation Loss: 0.13132942073692275 Validation accuracy: 96.01190476190476\n",
      "Epoch 44 Training Loss: 0.1020016919617173 Training accuracy: 97.68595532319392\n",
      "Epoch 44 Validation Loss: 0.13005308514312705 Validation accuracy: 96.03571428571429\n",
      "Epoch 45 Training Loss: 0.10019245088807957 Training accuracy: 97.74536596958175\n",
      "Epoch 45 Validation Loss: 0.12882337767462815 Validation accuracy: 96.04761904761905\n",
      "Epoch 46 Training Loss: 0.09843431101528276 Training accuracy: 97.81071768060836\n",
      "Epoch 46 Validation Loss: 0.12763248337488978 Validation accuracy: 96.0952380952381\n",
      "Epoch 47 Training Loss: 0.09672772696045744 Training accuracy: 97.85527566539923\n",
      "Epoch 47 Validation Loss: 0.12648491446166105 Validation accuracy: 96.11904761904762\n",
      "Epoch 48 Training Loss: 0.09506742159062122 Training accuracy: 97.90874524714829\n",
      "Epoch 48 Validation Loss: 0.12537983837403852 Validation accuracy: 96.16666666666667\n",
      "Epoch 49 Training Loss: 0.09345395042635914 Training accuracy: 97.94439163498099\n",
      "Epoch 49 Validation Loss: 0.12430207153297036 Validation accuracy: 96.20238095238095\n"
     ]
    }
   ],
   "source": [
    "parameters = initialize(num_neurons, num_hidden_layers, X_train, y_train)\n",
    "ep_list ,tr_loss_tot, tr_acc_tot = [], [], []\n",
    "val_loss_tot, val_acc_tot = [], []\n",
    "lr, reg = 0.01, 0.001\n",
    "for epoch in range(num_epochs):\n",
    "    ep_list.append(epoch+1)\n",
    "    num_steps = X_train.shape[1]//batch_size + 1\n",
    "    loss = 0\n",
    "    acc = 0\n",
    "    for steps in range(num_steps):\n",
    "        if steps != num_steps-1:\n",
    "            X_train_mini = X_train[:,steps*batch_size:(steps+1)*batch_size]\n",
    "            y_train_mini = y_train[:,steps*batch_size:(steps+1)*batch_size]\n",
    "        else:\n",
    "            X_train_mini = X_train[:,steps*batch_size:]\n",
    "            y_train_mini = y_train[:,steps*batch_size:]\n",
    "        parameters = forward(X_train_mini, parameters)\n",
    "        acc_batch = compute_acc(parameters[\"A\"+str(num_hidden_layers+1)], y_train_mini)\n",
    "        loss += compute_loss(parameters[\"A\"+str(num_hidden_layers+1)], y_train_mini)\n",
    "        #print(\"$$$\",loss)\n",
    "        reg_loss = compute_L2(parameters)\n",
    "        #print(\"%%%\", reg_loss)\n",
    "        loss += (reg*reg_loss/(2))\n",
    "        #print(\"&&&\",loss)\n",
    "        acc += acc_batch\n",
    "        grad = backward(y_train_mini, parameters, reg)\n",
    "        for ele in parameters.keys():\n",
    "            if \"W\" in ele or \"b\" in ele:\n",
    "                parameters[ele] += -lr*grad[ele]/X_train_mini.shape[1]\n",
    "    print(\"Epoch \" + str(epoch) + \" Training Loss: \" +str(loss/X_train.shape[1]) +\" Training accuracy: \" + str(acc*100/num_steps))\n",
    "    tr_loss_tot.append(loss/X_train.shape[1])\n",
    "    tr_acc_tot.append(acc*100/num_steps)\n",
    "    val_res = forward(X_test, parameters)\n",
    "    val_acc = compute_acc(val_res[\"A\"+str(num_hidden_layers+1)], y_test)\n",
    "    val_loss = compute_loss(val_res[\"A\"+str(num_hidden_layers+1)], y_test)\n",
    "    print(\"Epoch \" + str(epoch) + \" Validation Loss: \" +str(val_loss/X_test.shape[1]) +\" Validation accuracy: \" + str(val_acc*100)) \n",
    "    val_acc_tot.append(val_acc*100)\n",
    "    val_loss_tot.append(val_loss/X_test.shape[1])"
   ]
  },
  {
   "cell_type": "code",
   "execution_count": 55,
   "metadata": {},
   "outputs": [
    {
     "data": {
      "image/png": "[encoded data removed]",
      "text/plain": [
       "<matplotlib.figure.Figure at 0x2095b39ab70>"
      ]
     },
     "metadata": {},
     "output_type": "display_data"
    },
    {
     "data": {
      "image/png": "[encoded data removed]",
      "text/plain": [
       "<matplotlib.figure.Figure at 0x2095ae7d748>"
      ]
     },
     "metadata": {},
     "output_type": "display_data"
    }
   ],
   "source": [
    "import matplotlib.pyplot as plt\n",
    "plt.xlabel(\"Epoch\")\n",
    "plt.ylabel(\"Loss\")\n",
    "plt.plot(ep_list, tr_loss_tot, 'bo-' ,label='Training loss')\n",
    "plt.plot(ep_list, val_loss_tot, 'ro-',label = 'Validation loss')\n",
    "plt.legend()\n",
    "plt.show()\n",
    "plt.xlabel(\"Epoch\")\n",
    "plt.ylabel(\"Accuracy\")\n",
    "plt.plot(ep_list, tr_acc_tot, 'bo-', label='Training accuracy')\n",
    "plt.plot(ep_list, val_acc_tot, 'ro-' ,label = 'Validation accuracy')\n",
    "plt.legend()\n",
    "plt.show()"
   ]
  },
  {
   "cell_type": "code",
   "execution_count": null,
   "metadata": {},
   "outputs": [],
   "source": []
  }
 ],
 "metadata": {
  "kernelspec": {
   "display_name": "Python 3",
   "language": "python",
   "name": "python3"
  },
  "language_info": {
   "codemirror_mode": {
    "name": "ipython",
    "version": 3
   },
   "file_extension": ".py",
   "mimetype": "text/x-python",
   "name": "python",
   "nbconvert_exporter": "python",
   "pygments_lexer": "ipython3",
   "version": "3.6.4"
  }
 },
 "nbformat": 4,
 "nbformat_minor": 2
}
